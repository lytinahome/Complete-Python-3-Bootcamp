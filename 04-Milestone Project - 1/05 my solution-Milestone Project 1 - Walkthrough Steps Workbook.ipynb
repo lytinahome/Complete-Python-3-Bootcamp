{
 "cells": [
  {
   "cell_type": "markdown",
   "metadata": {},
   "source": [
    "# Milestone Project 1: Walkthrough Steps Workbook\n",
    "\n",
    "Below is a set of steps for you to follow to try to create the Tic Tac Toe Milestone Project game!"
   ]
  },
  {
   "cell_type": "markdown",
   "metadata": {},
   "source": [
    "#### Some suggested tools before you get started:\n",
    "To take input from a user:\n",
    "\n",
    "    player1 = input(\"Please pick a marker 'X' or 'O'\")\n",
    "    \n",
    "Note that input() takes in a string. If you need an integer value, use\n",
    "\n",
    "    position = int(input('Please enter a number'))\n",
    "    \n",
    "<br>To clear the screen between moves:\n",
    "\n",
    "    from IPython.display import clear_output\n",
    "    clear_output()\n",
    "    \n",
    "Note that clear_output() will only work in jupyter. To clear the screen in other IDEs, consider:\n",
    "\n",
    "    print('\\n'*100)\n",
    "    \n",
    "This scrolls the previous board up out of view. Now on to the program!"
   ]
  },
  {
   "cell_type": "markdown",
   "metadata": {},
   "source": [
    "**Step 1: Write a function that can print out a board. Set up your board as a list, where each index 1-9 corresponds with a number on a number pad, so you get a 3 by 3 board representation.**"
   ]
  },
  {
   "cell_type": "code",
   "execution_count": 1,
   "metadata": {},
   "outputs": [],
   "source": [
    "from IPython.display import clear_output\n",
    "\n",
    "def display_board(board):\n",
    "    a = '|   |   |   |'\n",
    "    b = '-------------'\n",
    "    a1 = '| '+board[1]+' | '+board[2]+' | '+board[3]+' |'\n",
    "    a2 = '| '+board[4]+' | '+board[5]+' | '+board[6]+' |'\n",
    "    a3 = '| '+board[7]+' | '+board[8]+' | '+board[9]+' |'\n",
    "    print(b )\n",
    "    print(a )\n",
    "    print(a1 )\n",
    "    print(a )\n",
    "    print(b )\n",
    "    print(a )\n",
    "    print(a2 )\n",
    "    print(a )\n",
    "    print(b )\n",
    "    print(a )\n",
    "    print(a3 )\n",
    "    print(a )\n",
    "    print(b )"
   ]
  },
  {
   "cell_type": "markdown",
   "metadata": {},
   "source": [
    "**TEST Step 1:** run your function on a test version of the board list, and make adjustments as necessary"
   ]
  },
  {
   "cell_type": "code",
   "execution_count": 2,
   "metadata": {},
   "outputs": [],
   "source": [
    "#test_board = ['#','X','O','X','O','X','O','X','O','X']\n",
    "#display_board(test_board)"
   ]
  },
  {
   "cell_type": "markdown",
   "metadata": {},
   "source": [
    "**Step 2: Write a function that can take in a player input and assign their marker as 'X' or 'O'. Think about using *while* loops to continually ask until you get a correct answer.**"
   ]
  },
  {
   "cell_type": "code",
   "execution_count": 3,
   "metadata": {},
   "outputs": [],
   "source": [
    "def player_input():\n",
    "    while True:\n",
    "        choice = input( 'what is your choice? X/O ' )\n",
    "        if choice == 'X': return 1\n",
    "        elif choice == 'O': return -1\n",
    "        else: print('invalid input')"
   ]
  },
  {
   "cell_type": "markdown",
   "metadata": {},
   "source": [
    "**TEST Step 2:** run the function to make sure it returns the desired output"
   ]
  },
  {
   "cell_type": "code",
   "execution_count": 4,
   "metadata": {},
   "outputs": [],
   "source": [
    "#player_input()"
   ]
  },
  {
   "cell_type": "markdown",
   "metadata": {},
   "source": [
    "**Step 3: Write a function that takes in the board list object, a marker ('X' or 'O'), and a desired position (number 1-9) and assigns it to the board.**"
   ]
  },
  {
   "cell_type": "code",
   "execution_count": 5,
   "metadata": {},
   "outputs": [],
   "source": [
    "def place_marker(board, marker, position):   \n",
    "    board[position] = marker\n",
    "    return board"
   ]
  },
  {
   "cell_type": "markdown",
   "metadata": {},
   "source": [
    "**TEST Step 3:** run the place marker function using test parameters and display the modified board"
   ]
  },
  {
   "cell_type": "code",
   "execution_count": 6,
   "metadata": {},
   "outputs": [],
   "source": [
    "#place_marker(test_board,' ',8)\n",
    "#display_board(test_board)"
   ]
  },
  {
   "cell_type": "markdown",
   "metadata": {},
   "source": [
    "**Step 4: Write a function that takes in a board and a mark (X or O) and then checks to see if that mark has won. **"
   ]
  },
  {
   "cell_type": "code",
   "execution_count": 7,
   "metadata": {},
   "outputs": [],
   "source": [
    "def win_check(board, mark):\n",
    "    wincase = [[1,2,3],[4,5,6],[7,8,9],[1,4,7],[2,5,8],[3,6,9],[1,5,9],[3,5,7]]\n",
    "    for item in wincase:\n",
    "        if list(map(lambda x: board[x], item)) == [mark]*3:\n",
    "            return False\n",
    "    return True"
   ]
  },
  {
   "cell_type": "markdown",
   "metadata": {},
   "source": [
    "**TEST Step 4:** run the win_check function against our test_board - it should return True"
   ]
  },
  {
   "cell_type": "code",
   "execution_count": 8,
   "metadata": {},
   "outputs": [],
   "source": [
    "#board = ['#', 'X', ' ', 'O', 'O', 'X', 'O', ' ', ' ', 'X']\n",
    "#item = [1,2,3]\n",
    "#list(map(lambda x: board[x], item))"
   ]
  },
  {
   "cell_type": "code",
   "execution_count": 9,
   "metadata": {},
   "outputs": [],
   "source": [
    "#win_check(['#', 'X', ' ', 'O', 'O', 'X', 'O', ' ', ' ', 'X'],'X')"
   ]
  },
  {
   "cell_type": "markdown",
   "metadata": {},
   "source": [
    "**Step 5: Write a function that uses the random module to randomly decide which player goes first. You may want to lookup random.randint() Return a string of which player went first.**"
   ]
  },
  {
   "cell_type": "code",
   "execution_count": 10,
   "metadata": {},
   "outputs": [],
   "source": [
    "import random\n",
    "\n",
    "def choose_first():\n",
    "    if random.randint(0,1) == 1: \n",
    "        print(\"'X' go first!\")\n",
    "        return 1\n",
    "    else:\n",
    "        print(\"'O' go first!\")\n",
    "        return -1\n",
    "    "
   ]
  },
  {
   "cell_type": "markdown",
   "metadata": {},
   "source": [
    "**Step 6: Write a function that returns a boolean indicating whether a space on the board is freely available.**"
   ]
  },
  {
   "cell_type": "code",
   "execution_count": 11,
   "metadata": {},
   "outputs": [],
   "source": [
    "def space_check(board, position):\n",
    "    try:\n",
    "        int(board[position])\n",
    "        board[position] = str(board[position])\n",
    "        return True\n",
    "    except:\n",
    "        return False"
   ]
  },
  {
   "cell_type": "markdown",
   "metadata": {},
   "source": [
    "**Step 7: Write a function that checks if the board is full and returns a boolean value. True if full, False otherwise.**"
   ]
  },
  {
   "cell_type": "code",
   "execution_count": 12,
   "metadata": {},
   "outputs": [],
   "source": [
    "def full_board_check(board):\n",
    "    for item in range(1,10):\n",
    "        if space_check(board, item):    return True\n",
    "    return False"
   ]
  },
  {
   "cell_type": "markdown",
   "metadata": {},
   "source": [
    "**Step 8: Write a function that asks for a player's next position (as a number 1-9) and then uses the function from step 6 to check if it's a free position. If it is, then return the position for later use.**"
   ]
  },
  {
   "cell_type": "code",
   "execution_count": 18,
   "metadata": {},
   "outputs": [],
   "source": [
    "def player_choice(board,marker):\n",
    "    while True:\n",
    "        try:\n",
    "            position = int(input('what is your move, {}? 1~9'.format(marker)))\n",
    "            if 0 < position < 10: break\n",
    "            else: print('Invalid Input!')\n",
    "        except:\n",
    "            print('invalid input!')\n",
    "            continue\n",
    "    while space_check(board, position) == 0:\n",
    "        print('Invalid input! try another place!')\n",
    "        position = int(input('what is your move, {}? 1~9'.format(marker)))\n",
    "    return position"
   ]
  },
  {
   "cell_type": "code",
   "execution_count": 19,
   "metadata": {},
   "outputs": [],
   "source": [
    "#board = ['#'] + [' '] * 9\n",
    "#player_choice(board)"
   ]
  },
  {
   "cell_type": "markdown",
   "metadata": {},
   "source": [
    "**Step 9: Write a function that asks the player if they want to play again and returns a boolean True if they do want to play again.**"
   ]
  },
  {
   "cell_type": "code",
   "execution_count": 20,
   "metadata": {},
   "outputs": [],
   "source": [
    "def replay():\n",
    "    while True:\n",
    "        want = input('want to replay? yes/no').lower()\n",
    "        if want == 'yes': return True\n",
    "        elif want == 'no': return False\n",
    "        else: print('invalid input!')\n",
    "        \n",
    "    "
   ]
  },
  {
   "cell_type": "markdown",
   "metadata": {
    "collapsed": true
   },
   "source": [
    "**Step 10: Here comes the hard part! Use while loops and the functions you've made to run the game!**"
   ]
  },
  {
   "cell_type": "code",
   "execution_count": 21,
   "metadata": {},
   "outputs": [
    {
     "name": "stdout",
     "output_type": "stream",
     "text": [
      "['#', '1', '2', '3', '4', '5', '6', '7', '8', '9']\n"
     ]
    },
    {
     "data": {
      "text/plain": [
       "False"
      ]
     },
     "execution_count": 21,
     "metadata": {},
     "output_type": "execute_result"
    }
   ],
   "source": [
    "board =['#'] + list(map(str,range(1,10)))\n",
    "print(board)\n",
    "type(board[1]) == int"
   ]
  },
  {
   "cell_type": "code",
   "execution_count": 22,
   "metadata": {},
   "outputs": [
    {
     "name": "stdout",
     "output_type": "stream",
     "text": [
      "-------------\n",
      "|   |   |   |\n",
      "| O | X | O |\n",
      "|   |   |   |\n",
      "-------------\n",
      "|   |   |   |\n",
      "| X | O | X |\n",
      "|   |   |   |\n",
      "-------------\n",
      "|   |   |   |\n",
      "| O | 8 | 9 |\n",
      "|   |   |   |\n",
      "-------------\n",
      "'O' won!\n",
      "want to replay? yes/no8\n",
      "invalid input!\n",
      "want to replay? yes/nono\n"
     ]
    }
   ],
   "source": [
    "from IPython.display import clear_output\n",
    "clear_output()\n",
    "print('Welcome to Tic Tac Toe!')\n",
    "player = {1:'X', -1:'O'}\n",
    "test_board = ['#','X','O','X','O','X','O','X','O','X']\n",
    "while True: \n",
    "    display_board(test_board)\n",
    "    board =['#'] + list(map(str,range(1,10)))\n",
    "    player1 = player_input()\n",
    "    clear_output()\n",
    "    current = choose_first()\n",
    "    win = 0 \n",
    "    while full_board_check(board) and win_check(board,'X') and win_check(board,'O'):       \n",
    "        marker = player[current]\n",
    "        #print(board)        \n",
    "        display_board(board) #current board       \n",
    "        position = player_choice(board,marker) #make decision             \n",
    "        board = place_marker(board, marker, position)  #update board  \n",
    "        #print(board)\n",
    "        current *= -1\n",
    "        clear_output()\n",
    "    display_board(board)\n",
    "    if not win_check(board, 'X'): print(\"'X' won!\")\n",
    "    elif not win_check(board, 'O'): print(\"'O' won!\")\n",
    "    else: print('A tie!')\n",
    "    if replay():\n",
    "        continue\n",
    "    else:\n",
    "        break\n",
    "    "
   ]
  },
  {
   "cell_type": "markdown",
   "metadata": {
    "collapsed": true
   },
   "source": [
    "\n",
    "\n",
    "\n",
    "## Good Job!"
   ]
  },
  {
   "cell_type": "code",
   "execution_count": null,
   "metadata": {},
   "outputs": [],
   "source": []
  }
 ],
 "metadata": {
  "kernelspec": {
   "display_name": "Python 3",
   "language": "python",
   "name": "python3"
  },
  "language_info": {
   "codemirror_mode": {
    "name": "ipython",
    "version": 3
   },
   "file_extension": ".py",
   "mimetype": "text/x-python",
   "name": "python",
   "nbconvert_exporter": "python",
   "pygments_lexer": "ipython3",
   "version": "3.6.4"
  }
 },
 "nbformat": 4,
 "nbformat_minor": 1
}
